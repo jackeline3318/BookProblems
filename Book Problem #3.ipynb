{
 "cells": [
  {
   "cell_type": "code",
   "execution_count": 2,
   "id": "f0f649d6",
   "metadata": {},
   "outputs": [],
   "source": [
    "import pandas as pd"
   ]
  },
  {
   "cell_type": "code",
   "execution_count": 3,
   "id": "b972f425",
   "metadata": {},
   "outputs": [
    {
     "name": "stdout",
     "output_type": "stream",
     "text": [
      "Snap Percent=96, Awards=7, Games Missed=3, 32.74 \n"
     ]
    }
   ],
   "source": [
    "print(\"Snap Percent=96, Awards=7, Games Missed=3, 32.74 \")"
   ]
  },
  {
   "cell_type": "code",
   "execution_count": 4,
   "id": "3497bf07",
   "metadata": {},
   "outputs": [
    {
     "name": "stdout",
     "output_type": "stream",
     "text": [
      "We predict that  the money that  Titus Johnson's profile should earn in his contract is around $32.74 million money that is guaranteed\n"
     ]
    }
   ],
   "source": [
    "print(\"We predict that  the money that  Titus Johnson's profile should earn in his contract is around $32.74 million money that is guaranteed\")"
   ]
  },
  {
   "cell_type": "code",
   "execution_count": 6,
   "id": "26e9c1d4",
   "metadata": {},
   "outputs": [
    {
     "name": "stdout",
     "output_type": "stream",
     "text": [
      "An additional award would result in a predicted amount of 46.73 million guaranteed money. The increase in money with and additional award is= 46.73- 32.74=13.99. \n"
     ]
    }
   ],
   "source": [
    "print(\"An additional award would result in a predicted amount of 46.73 million guaranteed money. The increase in money with and additional award is= 46.73- 32.74=13.99. \")"
   ]
  },
  {
   "cell_type": "code",
   "execution_count": 7,
   "id": "7aba644f",
   "metadata": {},
   "outputs": [
    {
     "name": "stdout",
     "output_type": "stream",
     "text": [
      "An additional award would result in a predicted amount of $46.73 million of guaranteed money, to an increaase of 13.99 million.\n"
     ]
    }
   ],
   "source": [
    "print(\"An additional award would result in a predicted amount of $46.73 million of guaranteed money, to an increaase of 13.99 million.\")"
   ]
  },
  {
   "cell_type": "code",
   "execution_count": 11,
   "id": "b30f352e",
   "metadata": {},
   "outputs": [
    {
     "name": "stdout",
     "output_type": "stream",
     "text": [
      "The predicted guaranteed money of $50 million for observations satisfying the decision rules. Snap Percent>9-.28, Snap Percent<95.37, Awards<6.75, Games Missed<1.5. Is based on the average guaranteed money of the observations in the training or validation set that satisfy this sequence of decision rules. But since there are no observations in the partition to satisfy the rules, the predicted value of $50 million is not much accurate.\n"
     ]
    }
   ],
   "source": [
    "print(\"The predicted guaranteed money of $50 million for observations satisfying the decision rules. Snap Percent>9-.28, Snap Percent<95.37, Awards<6.75, Games Missed<1.5. Is based on the average guaranteed money of the observations in the training or validation set that satisfy this sequence of decision rules. But since there are no observations in the partition to satisfy the rules, the predicted value of $50 million is not much accurate.\")"
   ]
  },
  {
   "cell_type": "code",
   "execution_count": null,
   "id": "80abba50",
   "metadata": {},
   "outputs": [],
   "source": []
  }
 ],
 "metadata": {
  "kernelspec": {
   "display_name": "Python 3 (ipykernel)",
   "language": "python",
   "name": "python3"
  },
  "language_info": {
   "codemirror_mode": {
    "name": "ipython",
    "version": 3
   },
   "file_extension": ".py",
   "mimetype": "text/x-python",
   "name": "python",
   "nbconvert_exporter": "python",
   "pygments_lexer": "ipython3",
   "version": "3.11.4"
  }
 },
 "nbformat": 4,
 "nbformat_minor": 5
}
