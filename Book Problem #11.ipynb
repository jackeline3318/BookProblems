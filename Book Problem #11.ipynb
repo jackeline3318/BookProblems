{
 "cells": [
  {
   "cell_type": "code",
   "execution_count": 5,
   "id": "70ac504a",
   "metadata": {},
   "outputs": [
    {
     "name": "stdout",
     "output_type": "stream",
     "text": [
      "The history saving thread hit an unexpected error (OperationalError('database or disk is full')).History will not be written to the database.\n",
      "Defaulting to user installation because normal site-packages is not writeable\n",
      "Requirement already satisfied: pandas in c:\\users\\gisse\\appdata\\roaming\\python\\python311\\site-packages (2.1.2)\n",
      "Requirement already satisfied: scikit-learn in c:\\programdata\\anaconda3\\lib\\site-packages (1.3.0)\n",
      "Requirement already satisfied: numpy<2,>=1.23.2 in c:\\programdata\\anaconda3\\lib\\site-packages (from pandas) (1.24.3)\n",
      "Requirement already satisfied: python-dateutil>=2.8.2 in c:\\programdata\\anaconda3\\lib\\site-packages (from pandas) (2.8.2)\n",
      "Requirement already satisfied: pytz>=2020.1 in c:\\programdata\\anaconda3\\lib\\site-packages (from pandas) (2022.7)\n",
      "Requirement already satisfied: tzdata>=2022.1 in c:\\users\\gisse\\appdata\\roaming\\python\\python311\\site-packages (from pandas) (2023.3)\n",
      "Requirement already satisfied: scipy>=1.5.0 in c:\\programdata\\anaconda3\\lib\\site-packages (from scikit-learn) (1.10.1)\n",
      "Requirement already satisfied: joblib>=1.1.1 in c:\\programdata\\anaconda3\\lib\\site-packages (from scikit-learn) (1.2.0)\n",
      "Requirement already satisfied: threadpoolctl>=2.0.0 in c:\\programdata\\anaconda3\\lib\\site-packages (from scikit-learn) (2.2.0)\n",
      "Requirement already satisfied: six>=1.5 in c:\\programdata\\anaconda3\\lib\\site-packages (from python-dateutil>=2.8.2->pandas) (1.16.0)\n",
      "Note: you may need to restart the kernel to use updated packages.\n"
     ]
    }
   ],
   "source": [
    "pip install pandas scikit-learn"
   ]
  },
  {
   "cell_type": "code",
   "execution_count": 2,
   "id": "5759f8a0",
   "metadata": {},
   "outputs": [],
   "source": [
    "import pandas as pd"
   ]
  },
  {
   "cell_type": "code",
   "execution_count": 3,
   "id": "ffe44e61",
   "metadata": {},
   "outputs": [],
   "source": [
    "A = pd.read_csv(r\"C:\\Users\\gisse\\Downloads\\Sandhills.csv\")"
   ]
  },
  {
   "cell_type": "code",
   "execution_count": 4,
   "id": "11d5319e",
   "metadata": {},
   "outputs": [
    {
     "data": {
      "text/html": [
       "<div>\n",
       "<style scoped>\n",
       "    .dataframe tbody tr th:only-of-type {\n",
       "        vertical-align: middle;\n",
       "    }\n",
       "\n",
       "    .dataframe tbody tr th {\n",
       "        vertical-align: top;\n",
       "    }\n",
       "\n",
       "    .dataframe thead th {\n",
       "        text-align: right;\n",
       "    }\n",
       "</style>\n",
       "<table border=\"1\" class=\"dataframe\">\n",
       "  <thead>\n",
       "    <tr style=\"text-align: right;\">\n",
       "      <th></th>\n",
       "      <th>Customer</th>\n",
       "      <th>Balance</th>\n",
       "      <th>Direct</th>\n",
       "    </tr>\n",
       "  </thead>\n",
       "  <tbody>\n",
       "    <tr>\n",
       "      <th>0</th>\n",
       "      <td>1</td>\n",
       "      <td>122</td>\n",
       "      <td>No</td>\n",
       "    </tr>\n",
       "    <tr>\n",
       "      <th>1</th>\n",
       "      <td>2</td>\n",
       "      <td>289</td>\n",
       "      <td>No</td>\n",
       "    </tr>\n",
       "    <tr>\n",
       "      <th>2</th>\n",
       "      <td>3</td>\n",
       "      <td>365</td>\n",
       "      <td>Yes</td>\n",
       "    </tr>\n",
       "    <tr>\n",
       "      <th>3</th>\n",
       "      <td>4</td>\n",
       "      <td>398</td>\n",
       "      <td>No</td>\n",
       "    </tr>\n",
       "    <tr>\n",
       "      <th>4</th>\n",
       "      <td>5</td>\n",
       "      <td>409</td>\n",
       "      <td>No</td>\n",
       "    </tr>\n",
       "    <tr>\n",
       "      <th>...</th>\n",
       "      <td>...</td>\n",
       "      <td>...</td>\n",
       "      <td>...</td>\n",
       "    </tr>\n",
       "    <tr>\n",
       "      <th>1195</th>\n",
       "      <td>1196</td>\n",
       "      <td>329</td>\n",
       "      <td>No</td>\n",
       "    </tr>\n",
       "    <tr>\n",
       "      <th>1196</th>\n",
       "      <td>1197</td>\n",
       "      <td>1261</td>\n",
       "      <td>No</td>\n",
       "    </tr>\n",
       "    <tr>\n",
       "      <th>1197</th>\n",
       "      <td>1198</td>\n",
       "      <td>358</td>\n",
       "      <td>No</td>\n",
       "    </tr>\n",
       "    <tr>\n",
       "      <th>1198</th>\n",
       "      <td>1199</td>\n",
       "      <td>665</td>\n",
       "      <td>No</td>\n",
       "    </tr>\n",
       "    <tr>\n",
       "      <th>1199</th>\n",
       "      <td>1200</td>\n",
       "      <td>1179</td>\n",
       "      <td>No</td>\n",
       "    </tr>\n",
       "  </tbody>\n",
       "</table>\n",
       "<p>1200 rows × 3 columns</p>\n",
       "</div>"
      ],
      "text/plain": [
       "      Customer  Balance Direct\n",
       "0            1      122     No\n",
       "1            2      289     No\n",
       "2            3      365    Yes\n",
       "3            4      398     No\n",
       "4            5      409     No\n",
       "...        ...      ...    ...\n",
       "1195      1196      329     No\n",
       "1196      1197     1261     No\n",
       "1197      1198      358     No\n",
       "1198      1199      665     No\n",
       "1199      1200     1179     No\n",
       "\n",
       "[1200 rows x 3 columns]"
      ]
     },
     "execution_count": 4,
     "metadata": {},
     "output_type": "execute_result"
    }
   ],
   "source": [
    "A"
   ]
  },
  {
   "cell_type": "code",
   "execution_count": 9,
   "id": "906182ca",
   "metadata": {},
   "outputs": [
    {
     "name": "stdout",
     "output_type": "stream",
     "text": [
      "Overall Error Rate: 11.00%\n",
      "Optimal k: 98\n"
     ]
    }
   ],
   "source": [
    "import pandas as pd\n",
    "from sklearn.model_selection import train_test_split, cross_val_score\n",
    "from sklearn.neighbors import KNeighborsClassifier\n",
    "\n",
    "A = pd.read_csv(r\"C:\\Users\\gisse\\Downloads\\Sandhills.csv\")\n",
    "\n",
    "A['Direct'] = A['Direct'].astype(str)\n",
    "\n",
    "X = A[['Balance']]\n",
    "y = A['Direct']\n",
    "\n",
    "X_train, X_test, y_train, y_test = train_test_split(X, y, test_size=200, random_state=42)\n",
    "\n",
    "knn = KNeighborsClassifier(n_neighbors=100)\n",
    "\n",
    "knn.fit(X_train, y_train)\n",
    "\n",
    "y_pred = knn.predict(X_test)\n",
    "\n",
    "overall_error_rate = 1 - (y_pred == y_test).mean()\n",
    "print(f\"Overall Error Rate: {overall_error_rate:.2%}\")\n",
    "\n",
    "error_rates = []\n",
    "k_values = list(range(1, 101))\n",
    "\n",
    "for k in k_values:\n",
    "    knn = KNeighborsClassifier(n_neighbors=k)\n",
    "    scores = cross_val_score(knn, X, y, cv=10, scoring='accuracy')\n",
    "    error_rates.append(1 - scores.mean())\n",
    "\n",
    "optimal_k = k_values[error_rates.index(min(error_rates))]\n",
    "print(f\"Optimal k: {optimal_k}\")"
   ]
  },
  {
   "cell_type": "code",
   "execution_count": null,
   "id": "d7ed1c89",
   "metadata": {},
   "outputs": [],
   "source": [
    "# Use the optimal value of k identified in part (a)\n",
    "optimal_k = 5  # Replace with the actual optimal k value from part (a)\n",
    "\n",
    "# Initialize a KNN classifier with the optimal k\n",
    "knn_optimal = KNeighborsClassifier(n_neighbors=optimal_k)\n",
    "\n",
    "# Fit the model on the entire dataset\n",
    "knn_optimal.fit(X, y)\n",
    "\n",
    "# Predictions on the test set\n",
    "y_test_pred = knn_optimal.predict(X_test)\n",
    "\n",
    "# Count the number of customers classified as enrolling in direct deposit\n",
    "enrolled_count = (y_test_pred == 'Yes').sum()\n",
    "print(f\"Number of customers classified as enrolling in direct deposit: {enrolled_count}\")"
   ]
  },
  {
   "cell_type": "code",
   "execution_count": 11,
   "id": "402bffb9",
   "metadata": {},
   "outputs": [
    {
     "name": "stdout",
     "output_type": "stream",
     "text": [
      "Number of customers classified as enrolling in direct deposit: 56\n",
      "Overall Error Rate: 100.00%\n"
     ]
    }
   ],
   "source": [
    "import pandas as pd\n",
    "from sklearn.model_selection import train_test_split\n",
    "from sklearn.neighbors import KNeighborsClassifier\n",
    "\n",
    "A = pd.read_csv(r\"C:\\Users\\gisse\\Downloads\\Sandhills.csv\")\n",
    "\n",
    "A['Direct'] = A['Direct'].astype(str)\n",
    "\n",
    "X = A[['Balance']]\n",
    "y = A['Direct']\n",
    "\n",
    "X_train, X_test, y_train, y_test = train_test_split(X, y, test_size=200, random_state=42)\n",
    "\n",
    "knn = KNeighborsClassifier(n_neighbors=98)\n",
    "\n",
    "knn.fit(X_train, y_train)\n",
    "\n",
    "y_pred_prob = knn.predict_proba(X_test)[:, 1]\n",
    "\n",
    "cutoff = 0.5\n",
    "y_pred = (y_pred_prob > cutoff).astype(int)\n",
    "\n",
    "enrolled_count = sum(y_pred)\n",
    "print(f\"Number of customers classified as enrolling in direct deposit: {enrolled_count}\")\n",
    "\n",
    "overall_error_rate = 1 - (y_pred == y_test).mean()\n",
    "print(f\"Overall Error Rate: {overall_error_rate:.2%}\")"
   ]
  },
  {
   "cell_type": "code",
   "execution_count": null,
   "id": "0d8dafab",
   "metadata": {},
   "outputs": [],
   "source": []
  }
 ],
 "metadata": {
  "kernelspec": {
   "display_name": "Python 3 (ipykernel)",
   "language": "python",
   "name": "python3"
  },
  "language_info": {
   "codemirror_mode": {
    "name": "ipython",
    "version": 3
   },
   "file_extension": ".py",
   "mimetype": "text/x-python",
   "name": "python",
   "nbconvert_exporter": "python",
   "pygments_lexer": "ipython3",
   "version": "3.11.4"
  }
 },
 "nbformat": 4,
 "nbformat_minor": 5
}
